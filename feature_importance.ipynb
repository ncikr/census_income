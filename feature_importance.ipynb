{
 "cells": [
  {
   "cell_type": "markdown",
   "metadata": {},
   "source": [
    "### Extract feature importances from best performing model"
   ]
  },
  {
   "cell_type": "code",
   "execution_count": 26,
   "metadata": {},
   "outputs": [
    {
     "data": {
      "text/plain": [
       "506"
      ]
     },
     "execution_count": 26,
     "metadata": {},
     "output_type": "execute_result"
    }
   ],
   "source": [
    "import mlflow\n",
    "import mlflow.sklearn\n",
    "import pandas as pd\n",
    "\n",
    "from helpers import load_data, load_features\n",
    "\n",
    "# load best model (gradient boosted classifer with no binning)\n",
    "model_uri = 'runs:/93a502eec69549c6a441240b10678d9a/pipeline'\n",
    "\n",
    "# Load the model\n",
    "loaded_model = mlflow.sklearn.load_model(model_uri)\n",
    "\n",
    "features = loaded_model.named_steps['columntransformer-3'].get_feature_names_out()\n",
    "\n",
    "# extract feature importance\n",
    "model = loaded_model.named_steps['gradientboostingclassifier']\n",
    "feature_importance = pd.DataFrame({'feature': features, 'importance': model.feature_importances_}).sort_values(\n",
    "    by='importance', ascending=False\n",
    ")\n",
    "\n",
    "feature_importance.head(20)\n"
   ]
  },
  {
   "cell_type": "code",
   "execution_count": null,
   "metadata": {},
   "outputs": [],
   "source": []
  }
 ],
 "metadata": {
  "kernelspec": {
   "display_name": "ml",
   "language": "python",
   "name": "python3"
  },
  "language_info": {
   "codemirror_mode": {
    "name": "ipython",
    "version": 3
   },
   "file_extension": ".py",
   "mimetype": "text/x-python",
   "name": "python",
   "nbconvert_exporter": "python",
   "pygments_lexer": "ipython3",
   "version": "3.13.1"
  }
 },
 "nbformat": 4,
 "nbformat_minor": 2
}
